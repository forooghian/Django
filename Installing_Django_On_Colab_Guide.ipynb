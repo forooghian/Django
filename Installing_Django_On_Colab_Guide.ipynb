{
  "cells": [
    {
      "cell_type": "markdown",
      "metadata": {
        "id": "view-in-github",
        "colab_type": "text"
      },
      "source": [
        "<a href=\"https://colab.research.google.com/github/forooghian/django/blob/main/Installing_Django_On_Colab_Guide.ipynb\" target=\"_parent\"><img src=\"https://colab.research.google.com/assets/colab-badge.svg\" alt=\"Open In Colab\"/></a>"
      ]
    },
    {
      "cell_type": "code",
      "source": [
        "from google.colab import drive\n",
        "drive.mount('/content/drive')"
      ],
      "metadata": {
        "id": "bzjFVPUgCqXd",
        "outputId": "eeb0053e-4291-4ecf-d79d-69599de3f03f",
        "colab": {
          "base_uri": "https://localhost:8080/"
        }
      },
      "execution_count": 12,
      "outputs": [
        {
          "output_type": "stream",
          "name": "stdout",
          "text": [
            "Drive already mounted at /content/drive; to attempt to forcibly remount, call drive.mount(\"/content/drive\", force_remount=True).\n"
          ]
        }
      ]
    },
    {
      "cell_type": "code",
      "source": [
        "import os\n",
        "import shutil"
      ],
      "metadata": {
        "id": "QKWHR1Xhztn_"
      },
      "execution_count": 18,
      "outputs": []
    },
    {
      "cell_type": "code",
      "source": [
        "!pip install django"
      ],
      "metadata": {
        "colab": {
          "base_uri": "https://localhost:8080/"
        },
        "id": "MioEi2VdYEey",
        "outputId": "88b55754-d927-4b34-a543-96fdcf8eafbd"
      },
      "execution_count": 21,
      "outputs": [
        {
          "output_type": "stream",
          "name": "stdout",
          "text": [
            "shell-init: error retrieving current directory: getcwd: cannot access parent directories: No such file or directory\n",
            "shell-init: error retrieving current directory: getcwd: cannot access parent directories: No such file or directory\n",
            "The folder you are executing pip from can no longer be found.\n"
          ]
        }
      ]
    },
    {
      "cell_type": "code",
      "source": [
        "%cd /content/drive/MyDrive/GitHub/django"
      ],
      "metadata": {
        "id": "119_t5RLe0Y0",
        "outputId": "2f2d44e2-0e76-47bc-a818-bf754603c514",
        "colab": {
          "base_uri": "https://localhost:8080/"
        }
      },
      "execution_count": 14,
      "outputs": [
        {
          "output_type": "stream",
          "name": "stdout",
          "text": [
            "/content/drive/MyDrive/GitHub/django\n"
          ]
        }
      ]
    },
    {
      "cell_type": "code",
      "source": [
        "django = \"/content/drive/MyDrive/GitHub/django\"\n",
        "if not os.listdir(django):\n",
        "  print(\"The folder is empty\")\n",
        "else:\n",
        "  print(\"The folder is not empty! so, we first remove it.\")\n",
        "  shutil.rmtree(django)"
      ],
      "metadata": {
        "id": "rOctJyzAzyzB"
      },
      "execution_count": null,
      "outputs": []
    },
    {
      "cell_type": "code",
      "source": [
        "!ls"
      ],
      "metadata": {
        "id": "4qtcCpOQHoHZ",
        "colab": {
          "base_uri": "https://localhost:8080/"
        },
        "outputId": "02d534b2-d70f-482d-9347-2b386796aeb7"
      },
      "execution_count": 4,
      "outputs": [
        {
          "output_type": "stream",
          "name": "stdout",
          "text": [
            "backend    Installing_Django_On_Colab_Guide.ipynb  manage.py  requirments.txt\n",
            "divar_app  LICENSE\t\t\t\t   README.md\n"
          ]
        }
      ]
    },
    {
      "cell_type": "code",
      "source": [
        "!git clone https://github.com/forooghian/django.git ."
      ],
      "metadata": {
        "colab": {
          "base_uri": "https://localhost:8080/"
        },
        "id": "Bo-A-CUfIhSO",
        "outputId": "91a28ade-ca7c-4776-cb6e-816d2e7baf49"
      },
      "execution_count": 5,
      "outputs": [
        {
          "output_type": "stream",
          "name": "stdout",
          "text": [
            "fatal: destination path '.' already exists and is not an empty directory.\n"
          ]
        }
      ]
    },
    {
      "cell_type": "code",
      "source": [
        "!pip install -r requirments.txt"
      ],
      "metadata": {
        "colab": {
          "base_uri": "https://localhost:8080/"
        },
        "id": "8j-LPzP4LCrt",
        "outputId": "51ed143f-a2b4-4dc1-db77-95c3eaba0597"
      },
      "execution_count": 16,
      "outputs": [
        {
          "output_type": "stream",
          "name": "stdout",
          "text": [
            "Looking in indexes: https://pypi.org/simple, https://us-python.pkg.dev/colab-wheels/public/simple/\n",
            "Collecting asgiref==3.5.2\n",
            "  Downloading asgiref-3.5.2-py3-none-any.whl (22 kB)\n",
            "Collecting Django==4.1.2\n",
            "  Downloading Django-4.1.2-py3-none-any.whl (8.1 MB)\n",
            "\u001b[2K     \u001b[90m━━━━━━━━━━━━━━━━━━━━━━━━━━━━━━━━━━━━━━━━\u001b[0m \u001b[32m8.1/8.1 MB\u001b[0m \u001b[31m50.7 MB/s\u001b[0m eta \u001b[36m0:00:00\u001b[0m\n",
            "\u001b[?25hCollecting sqlparse==0.4.3\n",
            "  Downloading sqlparse-0.4.3-py3-none-any.whl (42 kB)\n",
            "\u001b[2K     \u001b[90m━━━━━━━━━━━━━━━━━━━━━━━━━━━━━━━━━━━━━━━━\u001b[0m \u001b[32m42.8/42.8 kB\u001b[0m \u001b[31m4.3 MB/s\u001b[0m eta \u001b[36m0:00:00\u001b[0m\n",
            "\u001b[?25hCollecting tzdata==2022.5\n",
            "  Downloading tzdata-2022.5-py2.py3-none-any.whl (336 kB)\n",
            "\u001b[2K     \u001b[90m━━━━━━━━━━━━━━━━━━━━━━━━━━━━━━━━━━━━━━\u001b[0m \u001b[32m336.7/336.7 kB\u001b[0m \u001b[31m19.0 MB/s\u001b[0m eta \u001b[36m0:00:00\u001b[0m\n",
            "\u001b[?25hInstalling collected packages: tzdata, sqlparse, asgiref, Django\n",
            "  Attempting uninstall: tzdata\n",
            "    Found existing installation: tzdata 2023.3\n",
            "    Uninstalling tzdata-2023.3:\n",
            "      Successfully uninstalled tzdata-2023.3\n",
            "  Attempting uninstall: sqlparse\n",
            "    Found existing installation: sqlparse 0.4.4\n",
            "    Uninstalling sqlparse-0.4.4:\n",
            "      Successfully uninstalled sqlparse-0.4.4\n",
            "  Attempting uninstall: asgiref\n",
            "    Found existing installation: asgiref 3.6.0\n",
            "    Uninstalling asgiref-3.6.0:\n",
            "      Successfully uninstalled asgiref-3.6.0\n",
            "  Attempting uninstall: Django\n",
            "    Found existing installation: Django 4.2.1\n",
            "    Uninstalling Django-4.2.1:\n",
            "      Successfully uninstalled Django-4.2.1\n",
            "Successfully installed Django-4.1.2 asgiref-3.5.2 sqlparse-0.4.3 tzdata-2022.5\n"
          ]
        }
      ]
    },
    {
      "cell_type": "code",
      "source": [
        "!python manage.py makemigrations"
      ],
      "metadata": {
        "colab": {
          "base_uri": "https://localhost:8080/"
        },
        "id": "BWBOk1-4Ltin",
        "outputId": "10257e74-2a45-4430-b120-e6fd7d39df0e"
      },
      "execution_count": 17,
      "outputs": [
        {
          "output_type": "stream",
          "name": "stdout",
          "text": [
            "Traceback (most recent call last):\n",
            "  File \"/content/drive/MyDrive/GitHub/django/manage.py\", line 22, in <module>\n",
            "    main()\n",
            "  File \"/content/drive/MyDrive/GitHub/django/manage.py\", line 18, in main\n",
            "    execute_from_command_line(sys.argv)\n",
            "  File \"/usr/local/lib/python3.10/dist-packages/django/core/management/__init__.py\", line 446, in execute_from_command_line\n",
            "    utility.execute()\n",
            "  File \"/usr/local/lib/python3.10/dist-packages/django/core/management/__init__.py\", line 420, in execute\n",
            "    django.setup()\n",
            "  File \"/usr/local/lib/python3.10/dist-packages/django/__init__.py\", line 24, in setup\n",
            "    apps.populate(settings.INSTALLED_APPS)\n",
            "  File \"/usr/local/lib/python3.10/dist-packages/django/apps/registry.py\", line 91, in populate\n",
            "    app_config = AppConfig.create(entry)\n",
            "  File \"/usr/local/lib/python3.10/dist-packages/django/apps/config.py\", line 178, in create\n",
            "    mod = import_module(mod_path)\n",
            "  File \"/usr/lib/python3.10/importlib/__init__.py\", line 126, in import_module\n",
            "    return _bootstrap._gcd_import(name[level:], package, level)\n",
            "  File \"<frozen importlib._bootstrap>\", line 1050, in _gcd_import\n",
            "  File \"<frozen importlib._bootstrap>\", line 1027, in _find_and_load\n",
            "  File \"<frozen importlib._bootstrap>\", line 992, in _find_and_load_unlocked\n",
            "  File \"<frozen importlib._bootstrap>\", line 241, in _call_with_frames_removed\n",
            "  File \"<frozen importlib._bootstrap>\", line 1050, in _gcd_import\n",
            "  File \"<frozen importlib._bootstrap>\", line 1027, in _find_and_load\n",
            "  File \"<frozen importlib._bootstrap>\", line 1004, in _find_and_load_unlocked\n",
            "ModuleNotFoundError: No module named 'rest_framework'\n"
          ]
        }
      ]
    },
    {
      "cell_type": "code",
      "source": [
        "from google.colab.output import eval_js\n",
        "print(eval_js(\"google.colab.kernel.proxyPort(8000)\"))"
      ],
      "metadata": {
        "colab": {
          "base_uri": "https://localhost:8080/",
          "height": 34
        },
        "id": "9F-V516RKT7d",
        "outputId": "b6630da2-ab1d-45fd-93f0-b59a35c4a397"
      },
      "execution_count": 11,
      "outputs": [
        {
          "output_type": "stream",
          "name": "stdout",
          "text": [
            "https://dve93avaus-496ff2e9c6d22116-8000-colab.googleusercontent.com/\n"
          ]
        }
      ]
    },
    {
      "cell_type": "code",
      "source": [
        "!python manage.py runserver 8000"
      ],
      "metadata": {
        "colab": {
          "base_uri": "https://localhost:8080/"
        },
        "id": "3LlM-qgTKs52",
        "outputId": "2a4544c1-eac4-4636-e312-57d8277fdde1"
      },
      "execution_count": 12,
      "outputs": [
        {
          "output_type": "stream",
          "name": "stdout",
          "text": [
            "Watching for file changes with StatReloader\n",
            "Exception in thread django-main-thread:\n",
            "Traceback (most recent call last):\n",
            "  File \"/usr/lib/python3.10/threading.py\", line 1016, in _bootstrap_inner\n",
            "    self.run()\n",
            "  File \"/usr/lib/python3.10/threading.py\", line 953, in run\n",
            "    self._target(*self._args, **self._kwargs)\n",
            "  File \"/usr/local/lib/python3.10/dist-packages/django/utils/autoreload.py\", line 64, in wrapper\n",
            "    fn(*args, **kwargs)\n",
            "  File \"/usr/local/lib/python3.10/dist-packages/django/core/management/commands/runserver.py\", line 125, in inner_run\n",
            "    autoreload.raise_last_exception()\n",
            "  File \"/usr/local/lib/python3.10/dist-packages/django/utils/autoreload.py\", line 87, in raise_last_exception\n",
            "    raise _exception[1]\n",
            "  File \"/usr/local/lib/python3.10/dist-packages/django/core/management/__init__.py\", line 394, in execute\n",
            "    autoreload.check_errors(django.setup)()\n",
            "  File \"/usr/local/lib/python3.10/dist-packages/django/utils/autoreload.py\", line 64, in wrapper\n",
            "    fn(*args, **kwargs)\n",
            "  File \"/usr/local/lib/python3.10/dist-packages/django/__init__.py\", line 24, in setup\n",
            "    apps.populate(settings.INSTALLED_APPS)\n",
            "  File \"/usr/local/lib/python3.10/dist-packages/django/apps/registry.py\", line 91, in populate\n",
            "    app_config = AppConfig.create(entry)\n",
            "  File \"/usr/local/lib/python3.10/dist-packages/django/apps/config.py\", line 178, in create\n",
            "    mod = import_module(mod_path)\n",
            "  File \"/usr/lib/python3.10/importlib/__init__.py\", line 126, in import_module\n",
            "    return _bootstrap._gcd_import(name[level:], package, level)\n",
            "  File \"<frozen importlib._bootstrap>\", line 1050, in _gcd_import\n",
            "  File \"<frozen importlib._bootstrap>\", line 1027, in _find_and_load\n",
            "  File \"<frozen importlib._bootstrap>\", line 992, in _find_and_load_unlocked\n",
            "  File \"<frozen importlib._bootstrap>\", line 241, in _call_with_frames_removed\n",
            "  File \"<frozen importlib._bootstrap>\", line 1050, in _gcd_import\n",
            "  File \"<frozen importlib._bootstrap>\", line 1027, in _find_and_load\n",
            "  File \"<frozen importlib._bootstrap>\", line 1004, in _find_and_load_unlocked\n",
            "ModuleNotFoundError: No module named 'rest_framework'\n"
          ]
        }
      ]
    }
  ],
  "metadata": {
    "colab": {
      "provenance": [],
      "authorship_tag": "ABX9TyNhnmcazvvYiTgXZeI9bTlz",
      "include_colab_link": true
    },
    "kernelspec": {
      "display_name": "Python 3",
      "name": "python3"
    },
    "language_info": {
      "name": "python"
    }
  },
  "nbformat": 4,
  "nbformat_minor": 0
}